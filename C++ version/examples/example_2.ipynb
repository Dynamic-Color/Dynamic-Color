{
 "cells": [
  {
   "cell_type": "code",
   "execution_count": 12,
   "metadata": {},
   "outputs": [],
   "source": [
    "# load dynamic_color package\n",
    "from dynamic_color import findPaletteForGrid\n",
    "\n",
    "# load test data\n",
    "import pickle\n",
    "with open('hie_grid.pkl', 'rb') as f:\n",
    "    grid_data = pickle.load(f)[:8]\n",
    "\n",
    "hue_range = [0, 360]\n",
    "color_mode = 0 # 0 for ours-D, amd 1 for ours-S\n",
    "tradeoff = 1.0\n",
    "iter_num = 48\n",
    "dec_rate = 0.99\n",
    "thread_num = 12\n",
    "\n",
    "args = grid_data + [hue_range, color_mode, tradeoff, iter_num, dec_rate, thread_num]\n",
    "pcolor = args[0] \n",
    "args[0] = [] # initial first level colors without input colrs"
   ]
  },
  {
   "cell_type": "code",
   "execution_count": 13,
   "metadata": {},
   "outputs": [],
   "source": [
    "import math\n",
    "from matplotlib import pyplot as plt\n",
    "\n",
    "line_width = 1.5\n",
    "def show_grid(row_asses, grid_labels, square_len, color_map):\n",
    "    # draw easy grid visualization\n",
    "    def highlight_cell(x, y, ax=None, **kwargs):\n",
    "        rect = plt.Rectangle((x - .5, y - .5), 1, 1, fill=False, **kwargs)\n",
    "        ax = ax or plt.gca()\n",
    "        ax.add_patch(rect)\n",
    "        return rect\n",
    "\n",
    "    data = []\n",
    "    grid_numbers = len(grid_labels)\n",
    "    num = math.ceil(square_len)\n",
    "    for i in range(num):\n",
    "        row = []\n",
    "        for j in range(num):\n",
    "            if row_asses[num * i + j] >= grid_numbers:\n",
    "                row.append([1,1,1])\n",
    "            else:\n",
    "                row.append(color_map[grid_labels[row_asses[num * i + j]]])\n",
    "        data.append(row)\n",
    "    # plt.cla()\n",
    "    fig = plt.figure(figsize=(6,6))\n",
    "    plt.imshow(data)\n",
    "    for i in range(num):\n",
    "        for j in range(num):\n",
    "            highlight_cell(i, j, color=\"white\", linewidth=line_width)\n",
    "    plt.axis('off')\n",
    "        \n",
    "\n",
    "def evaluate():\n",
    "    palette = findPaletteForGrid(*args)\n",
    "    print(len(palette))\n",
    "    start_idx = len(args[1])\n",
    "    color_length = len(args[6])\n",
    "        \n",
    "    for _ in range(1):\n",
    "        colormap = {}\n",
    "        for i in range(color_length):\n",
    "            colormap[args[6][i]] = palette[start_idx + i]\n",
    "        start_idx += color_length\n",
    "        show_grid(args[4], args[5], args[3], colormap)\n",
    "        \n"
   ]
  },
  {
   "cell_type": "code",
   "execution_count": 17,
   "metadata": {},
   "outputs": [
    {
     "name": "stdout",
     "output_type": "stream",
     "text": [
      "20\n"
     ]
    },
    {
     "data": {
      "image/png": "[encoded data removed]",
      "text/plain": [
       "<Figure size 600x600 with 1 Axes>"
      ]
     },
     "metadata": {},
     "output_type": "display_data"
    }
   ],
   "source": [
    "args[9] = 1\n",
    "evaluate()"
   ]
  },
  {
   "cell_type": "code",
   "execution_count": 32,
   "metadata": {},
   "outputs": [
    {
     "name": "stdout",
     "output_type": "stream",
     "text": [
      "20\n"
     ]
    },
    {
     "data": {
      "image/png": "[encoded data removed]",
      "text/plain": [
       "<Figure size 600x600 with 1 Axes>"
      ]
     },
     "metadata": {},
     "output_type": "display_data"
    }
   ],
   "source": [
    "args[9] = 0\n",
    "evaluate()"
   ]
  }
 ],
 "metadata": {
  "kernelspec": {
   "display_name": "Grid",
   "language": "python",
   "name": "python3"
  },
  "language_info": {
   "codemirror_mode": {
    "name": "ipython",
    "version": 3
   },
   "file_extension": ".py",
   "mimetype": "text/x-python",
   "name": "python",
   "nbconvert_exporter": "python",
   "pygments_lexer": "ipython3",
   "version": "3.8.18"
  }
 },
 "nbformat": 4,
 "nbformat_minor": 2
}
